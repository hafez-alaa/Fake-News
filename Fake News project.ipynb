{
 "cells": [
  {
   "cell_type": "code",
   "execution_count": 91,
   "id": "679fffff-8ec0-4021-baf6-c9f04b31190d",
   "metadata": {},
   "outputs": [],
   "source": [
    "import nltk \n",
    "from nltk.tokenize import word_tokenize,sent_tokenize\n",
    "from nltk.stem import SnowballStemmer,PorterStemmer,WordNetLemmatizer\n",
    "from nltk.corpus import stopwords,wordnet\n",
    "from nltk.tag import pos_tag\n",
    "from textblob import Word\n",
    "import numpy as np\n",
    "import pandas as pd\n",
    "import matplotlib.pyplot as plt\n",
    "import re\n",
    "import pickle"
   ]
  },
  {
   "cell_type": "markdown",
   "id": "d0fefa94-cf79-4c23-ae00-d5ebe9ec524c",
   "metadata": {},
   "source": [
    "### Read Data"
   ]
  },
  {
   "cell_type": "code",
   "execution_count": 93,
   "id": "7bd9ffec-c2f9-46fb-aa51-d296e2f93545",
   "metadata": {},
   "outputs": [
    {
     "data": {
      "text/html": [
       "<div>\n",
       "<style scoped>\n",
       "    .dataframe tbody tr th:only-of-type {\n",
       "        vertical-align: middle;\n",
       "    }\n",
       "\n",
       "    .dataframe tbody tr th {\n",
       "        vertical-align: top;\n",
       "    }\n",
       "\n",
       "    .dataframe thead th {\n",
       "        text-align: right;\n",
       "    }\n",
       "</style>\n",
       "<table border=\"1\" class=\"dataframe\">\n",
       "  <thead>\n",
       "    <tr style=\"text-align: right;\">\n",
       "      <th></th>\n",
       "      <th>Unnamed: 0</th>\n",
       "      <th>title</th>\n",
       "      <th>text</th>\n",
       "      <th>label</th>\n",
       "    </tr>\n",
       "  </thead>\n",
       "  <tbody>\n",
       "    <tr>\n",
       "      <th>0</th>\n",
       "      <td>8476</td>\n",
       "      <td>You Can Smell Hillary’s Fear</td>\n",
       "      <td>Daniel Greenfield, a Shillman Journalism Fello...</td>\n",
       "      <td>FAKE</td>\n",
       "    </tr>\n",
       "    <tr>\n",
       "      <th>1</th>\n",
       "      <td>10294</td>\n",
       "      <td>Watch The Exact Moment Paul Ryan Committed Pol...</td>\n",
       "      <td>Google Pinterest Digg Linkedin Reddit Stumbleu...</td>\n",
       "      <td>FAKE</td>\n",
       "    </tr>\n",
       "    <tr>\n",
       "      <th>2</th>\n",
       "      <td>3608</td>\n",
       "      <td>Kerry to go to Paris in gesture of sympathy</td>\n",
       "      <td>U.S. Secretary of State John F. Kerry said Mon...</td>\n",
       "      <td>REAL</td>\n",
       "    </tr>\n",
       "    <tr>\n",
       "      <th>3</th>\n",
       "      <td>10142</td>\n",
       "      <td>Bernie supporters on Twitter erupt in anger ag...</td>\n",
       "      <td>— Kaydee King (@KaydeeKing) November 9, 2016 T...</td>\n",
       "      <td>FAKE</td>\n",
       "    </tr>\n",
       "    <tr>\n",
       "      <th>4</th>\n",
       "      <td>875</td>\n",
       "      <td>The Battle of New York: Why This Primary Matters</td>\n",
       "      <td>It's primary day in New York and front-runners...</td>\n",
       "      <td>REAL</td>\n",
       "    </tr>\n",
       "    <tr>\n",
       "      <th>...</th>\n",
       "      <td>...</td>\n",
       "      <td>...</td>\n",
       "      <td>...</td>\n",
       "      <td>...</td>\n",
       "    </tr>\n",
       "    <tr>\n",
       "      <th>6330</th>\n",
       "      <td>4490</td>\n",
       "      <td>State Department says it can't find emails fro...</td>\n",
       "      <td>The State Department told the Republican Natio...</td>\n",
       "      <td>REAL</td>\n",
       "    </tr>\n",
       "    <tr>\n",
       "      <th>6331</th>\n",
       "      <td>8062</td>\n",
       "      <td>The ‘P’ in PBS Should Stand for ‘Plutocratic’ ...</td>\n",
       "      <td>The ‘P’ in PBS Should Stand for ‘Plutocratic’ ...</td>\n",
       "      <td>FAKE</td>\n",
       "    </tr>\n",
       "    <tr>\n",
       "      <th>6332</th>\n",
       "      <td>8622</td>\n",
       "      <td>Anti-Trump Protesters Are Tools of the Oligarc...</td>\n",
       "      <td>Anti-Trump Protesters Are Tools of the Oligar...</td>\n",
       "      <td>FAKE</td>\n",
       "    </tr>\n",
       "    <tr>\n",
       "      <th>6333</th>\n",
       "      <td>4021</td>\n",
       "      <td>In Ethiopia, Obama seeks progress on peace, se...</td>\n",
       "      <td>ADDIS ABABA, Ethiopia —President Obama convene...</td>\n",
       "      <td>REAL</td>\n",
       "    </tr>\n",
       "    <tr>\n",
       "      <th>6334</th>\n",
       "      <td>4330</td>\n",
       "      <td>Jeb Bush Is Suddenly Attacking Trump. Here's W...</td>\n",
       "      <td>Jeb Bush Is Suddenly Attacking Trump. Here's W...</td>\n",
       "      <td>REAL</td>\n",
       "    </tr>\n",
       "  </tbody>\n",
       "</table>\n",
       "<p>6335 rows × 4 columns</p>\n",
       "</div>"
      ],
      "text/plain": [
       "      Unnamed: 0                                              title  \\\n",
       "0           8476                       You Can Smell Hillary’s Fear   \n",
       "1          10294  Watch The Exact Moment Paul Ryan Committed Pol...   \n",
       "2           3608        Kerry to go to Paris in gesture of sympathy   \n",
       "3          10142  Bernie supporters on Twitter erupt in anger ag...   \n",
       "4            875   The Battle of New York: Why This Primary Matters   \n",
       "...          ...                                                ...   \n",
       "6330        4490  State Department says it can't find emails fro...   \n",
       "6331        8062  The ‘P’ in PBS Should Stand for ‘Plutocratic’ ...   \n",
       "6332        8622  Anti-Trump Protesters Are Tools of the Oligarc...   \n",
       "6333        4021  In Ethiopia, Obama seeks progress on peace, se...   \n",
       "6334        4330  Jeb Bush Is Suddenly Attacking Trump. Here's W...   \n",
       "\n",
       "                                                   text label  \n",
       "0     Daniel Greenfield, a Shillman Journalism Fello...  FAKE  \n",
       "1     Google Pinterest Digg Linkedin Reddit Stumbleu...  FAKE  \n",
       "2     U.S. Secretary of State John F. Kerry said Mon...  REAL  \n",
       "3     — Kaydee King (@KaydeeKing) November 9, 2016 T...  FAKE  \n",
       "4     It's primary day in New York and front-runners...  REAL  \n",
       "...                                                 ...   ...  \n",
       "6330  The State Department told the Republican Natio...  REAL  \n",
       "6331  The ‘P’ in PBS Should Stand for ‘Plutocratic’ ...  FAKE  \n",
       "6332   Anti-Trump Protesters Are Tools of the Oligar...  FAKE  \n",
       "6333  ADDIS ABABA, Ethiopia —President Obama convene...  REAL  \n",
       "6334  Jeb Bush Is Suddenly Attacking Trump. Here's W...  REAL  \n",
       "\n",
       "[6335 rows x 4 columns]"
      ]
     },
     "execution_count": 93,
     "metadata": {},
     "output_type": "execute_result"
    }
   ],
   "source": [
    "data = pd.read_csv(\"news.csv\")"
   ]
  },
  {
   "cell_type": "code",
   "execution_count": 94,
   "id": "fd9e2555-97bc-45db-a789-cd01e2f97d35",
   "metadata": {},
   "outputs": [],
   "source": [
    "data=data.rename(columns={\"Unnamed: 0\":\"ids\"})"
   ]
  },
  {
   "cell_type": "code",
   "execution_count": 95,
   "id": "7cab7d38-a871-48aa-95c7-9ae93fdf6ae6",
   "metadata": {},
   "outputs": [
    {
     "name": "stdout",
     "output_type": "stream",
     "text": [
      "<class 'pandas.core.frame.DataFrame'>\n",
      "RangeIndex: 6335 entries, 0 to 6334\n",
      "Data columns (total 4 columns):\n",
      " #   Column  Non-Null Count  Dtype \n",
      "---  ------  --------------  ----- \n",
      " 0   ids     6335 non-null   int64 \n",
      " 1   title   6335 non-null   object\n",
      " 2   text    6335 non-null   object\n",
      " 3   label   6335 non-null   object\n",
      "dtypes: int64(1), object(3)\n",
      "memory usage: 198.1+ KB\n"
     ]
    }
   ],
   "source": [
    "data.info()"
   ]
  },
  {
   "cell_type": "code",
   "execution_count": 96,
   "id": "dbf59265-d476-463a-ad21-b7dc898575c0",
   "metadata": {},
   "outputs": [
    {
     "data": {
      "text/plain": [
       "ids\n",
       "False    6335\n",
       "Name: count, dtype: int64"
      ]
     },
     "execution_count": 96,
     "metadata": {},
     "output_type": "execute_result"
    }
   ],
   "source": [
    "## Show duplicated in data\n",
    "data[\"ids\"].duplicated().value_counts()"
   ]
  },
  {
   "cell_type": "markdown",
   "id": "e2de6ba4-0475-475b-8f6e-588426362357",
   "metadata": {},
   "source": [
    "### preprocessing"
   ]
  },
  {
   "cell_type": "code",
   "execution_count": 107,
   "id": "455125e6-c464-4379-8932-d6826d91b504",
   "metadata": {},
   "outputs": [],
   "source": [
    "tages_map={\n",
    "    \"DT\":None, \n",
    "    \"CC\":None,\n",
    "    \"FW\":None, \n",
    "    \"LS\":None,\n",
    "    \"MD\":None,\n",
    "    \"POS\":None, \n",
    "    \"PRP\":None, \n",
    "    \"PRP$\":None, \n",
    "    \"TO\":None , \n",
    "    \"UH\":None , \n",
    "    \"SYM\":None, \n",
    "    \"WDT\":None, \n",
    "    \"CD\":wordnet.NOUN,\n",
    "    \"NN\":wordnet.NOUN,\n",
    "    \"NNS\":wordnet.NOUN,\n",
    "    \"NNP\":wordnet.NOUN,\n",
    "    \"NNPS\":wordnet.NOUN,\n",
    "    \"WP\":wordnet.NOUN,\n",
    "    \"WP$\":wordnet.NOUN,\n",
    "    \"EX\":wordnet.ADV, \n",
    "    \"WRB\":wordnet.ADV, \n",
    "    \"IN\":wordnet.ADV,\n",
    "    \"RB\":wordnet.ADV, \n",
    "    \"RBR\":wordnet.ADV,\n",
    "    \"RBS\":wordnet.ADV,\n",
    "    \"JJ\":wordnet.ADJ_SAT, \n",
    "    \"JJR\":wordnet.ADJ_SAT,\n",
    "    \"JJS\":wordnet.ADJ_SAT,\n",
    "    \"RP\":wordnet.ADJ_SAT,\n",
    "    \"VB\":wordnet.VERB,\n",
    "    \"VBD\":wordnet.VERB,\n",
    "    \"VBG\":wordnet.VERB,\n",
    "    \"VBN\":wordnet.VERB,\n",
    "    \"VBP\":wordnet.VERB,\n",
    "    \"VBZ\":wordnet.VERB,\n",
    "}"
   ]
  },
  {
   "cell_type": "code",
   "execution_count": 108,
   "id": "01a186c6-a321-4703-9bf1-f135967c7183",
   "metadata": {},
   "outputs": [],
   "source": [
    "stop_words =stopwords.words(\"english\")"
   ]
  },
  {
   "cell_type": "code",
   "execution_count": 109,
   "id": "e36482c8-c7e7-4dfb-9b50-77577ff6f8c1",
   "metadata": {},
   "outputs": [],
   "source": [
    "def not_stopwords (input):\n",
    "    words = \"\"\n",
    "    for word in input.split() : \n",
    "        if word.casefold() not in stop_words: \n",
    "            words =words + \" \" +word\n",
    "    return words"
   ]
  },
  {
   "cell_type": "code",
   "execution_count": 110,
   "id": "d9781f16-663c-47fd-8611-6e2ad1444e63",
   "metadata": {},
   "outputs": [],
   "source": [
    "def Lemmatize_Text(text ): \n",
    "    lemmatized = WordNetLemmatizer()\n",
    "    lemmatized_words = []\n",
    "    text = str(text)\n",
    "    tages  = pos_tag(text.split())\n",
    "    for word, pos in tages : \n",
    "        if pos not in tages_map or tages_map[pos] ==None : \n",
    "            lemmatized_words.append(word)\n",
    "        else: \n",
    "            lemma = lemmatized.lemmatize(word , pos=tages_map[pos] )\n",
    "            lemmatized_words.append(lemma)\n",
    "    return \" \".join(lemmatized_words)   "
   ]
  },
  {
   "cell_type": "code",
   "execution_count": 111,
   "id": "1f79beb9-940b-424f-912e-d2148a30e132",
   "metadata": {},
   "outputs": [],
   "source": [
    "def Stem_Text(text ): \n",
    "    # stem = SnowballStemmer(\"english\") \n",
    "    stem = PorterStemmer()\n",
    "    stem_words = []\n",
    "    for word in text.split():\n",
    "        stem_words.append(stem.stem(word))\n",
    "    return \" \".join(stem_words)"
   ]
  },
  {
   "cell_type": "code",
   "execution_count": 112,
   "id": "4cc53777-9b57-42f2-a8cc-891d4528e2ef",
   "metadata": {},
   "outputs": [],
   "source": [
    "def remove_punc(text): \n",
    "    remove = re.findall(r\"\\w+\",text)\n",
    "    return \" \".join(remove)"
   ]
  },
  {
   "cell_type": "code",
   "execution_count": 113,
   "id": "a676dc24-2571-468a-90f0-eee7e6a8cdec",
   "metadata": {},
   "outputs": [
    {
     "data": {
      "text/html": [
       "<div>\n",
       "<style scoped>\n",
       "    .dataframe tbody tr th:only-of-type {\n",
       "        vertical-align: middle;\n",
       "    }\n",
       "\n",
       "    .dataframe tbody tr th {\n",
       "        vertical-align: top;\n",
       "    }\n",
       "\n",
       "    .dataframe thead th {\n",
       "        text-align: right;\n",
       "    }\n",
       "</style>\n",
       "<table border=\"1\" class=\"dataframe\">\n",
       "  <thead>\n",
       "    <tr style=\"text-align: right;\">\n",
       "      <th></th>\n",
       "      <th>title</th>\n",
       "      <th>text</th>\n",
       "      <th>label</th>\n",
       "    </tr>\n",
       "  </thead>\n",
       "  <tbody>\n",
       "    <tr>\n",
       "      <th>0</th>\n",
       "      <td>You Can Smell Hillary’s Fear</td>\n",
       "      <td>Daniel Greenfield, a Shillman Journalism Fello...</td>\n",
       "      <td>FAKE</td>\n",
       "    </tr>\n",
       "    <tr>\n",
       "      <th>1</th>\n",
       "      <td>Watch The Exact Moment Paul Ryan Committed Pol...</td>\n",
       "      <td>Google Pinterest Digg Linkedin Reddit Stumbleu...</td>\n",
       "      <td>FAKE</td>\n",
       "    </tr>\n",
       "    <tr>\n",
       "      <th>2</th>\n",
       "      <td>Kerry to go to Paris in gesture of sympathy</td>\n",
       "      <td>U.S. Secretary of State John F. Kerry said Mon...</td>\n",
       "      <td>REAL</td>\n",
       "    </tr>\n",
       "    <tr>\n",
       "      <th>3</th>\n",
       "      <td>Bernie supporters on Twitter erupt in anger ag...</td>\n",
       "      <td>— Kaydee King (@KaydeeKing) November 9, 2016 T...</td>\n",
       "      <td>FAKE</td>\n",
       "    </tr>\n",
       "    <tr>\n",
       "      <th>4</th>\n",
       "      <td>The Battle of New York: Why This Primary Matters</td>\n",
       "      <td>It's primary day in New York and front-runners...</td>\n",
       "      <td>REAL</td>\n",
       "    </tr>\n",
       "  </tbody>\n",
       "</table>\n",
       "</div>"
      ],
      "text/plain": [
       "                                               title  \\\n",
       "0                       You Can Smell Hillary’s Fear   \n",
       "1  Watch The Exact Moment Paul Ryan Committed Pol...   \n",
       "2        Kerry to go to Paris in gesture of sympathy   \n",
       "3  Bernie supporters on Twitter erupt in anger ag...   \n",
       "4   The Battle of New York: Why This Primary Matters   \n",
       "\n",
       "                                                text label  \n",
       "0  Daniel Greenfield, a Shillman Journalism Fello...  FAKE  \n",
       "1  Google Pinterest Digg Linkedin Reddit Stumbleu...  FAKE  \n",
       "2  U.S. Secretary of State John F. Kerry said Mon...  REAL  \n",
       "3  — Kaydee King (@KaydeeKing) November 9, 2016 T...  FAKE  \n",
       "4  It's primary day in New York and front-runners...  REAL  "
      ]
     },
     "execution_count": 113,
     "metadata": {},
     "output_type": "execute_result"
    }
   ],
   "source": [
    "News = data[[\"title\",\"text\",\"label\"]]\n",
    "News.head()"
   ]
  },
  {
   "cell_type": "code",
   "execution_count": 114,
   "id": "0ef2cf31-da81-41ef-bcdd-7877a5e0ec58",
   "metadata": {},
   "outputs": [],
   "source": [
    "News.loc[:, \"title\"] = News[\"title\"].apply(remove_punc)\n",
    "News.loc[:, \"text\"] = News[\"text\"].apply(remove_punc)"
   ]
  },
  {
   "cell_type": "code",
   "execution_count": 115,
   "id": "f712afc4-ae1f-4f86-8476-f632f85b8e50",
   "metadata": {},
   "outputs": [],
   "source": [
    "News.loc[:, \"title\"] = News[\"title\"].apply(not_stopwords)\n",
    "News.loc[:, \"text\"] = News[\"text\"].apply(not_stopwords)"
   ]
  },
  {
   "cell_type": "code",
   "execution_count": 116,
   "id": "f4fb7962-cfa4-4a6c-8b15-a1ed275a0695",
   "metadata": {},
   "outputs": [],
   "source": [
    "News.loc[:, \"title\"] = News[\"title\"].apply(Stem_Text)\n",
    "News.loc[:, \"text\"] = News[\"text\"].apply(Stem_Text)"
   ]
  },
  {
   "cell_type": "code",
   "execution_count": 117,
   "id": "a081ded7-5e70-4e87-b54d-3bec599082a6",
   "metadata": {},
   "outputs": [],
   "source": [
    "# News.loc[:, \"title\"] = News[\"title\"].apply(Lemmatize_Text)\n",
    "# News.loc[:, \"text\"] = News[\"text\"].apply(Lemmatize_Text)"
   ]
  },
  {
   "cell_type": "code",
   "execution_count": 118,
   "id": "3746bff8-a2ac-40fa-abf7-e30c402bff61",
   "metadata": {},
   "outputs": [
    {
     "data": {
      "text/html": [
       "<div>\n",
       "<style scoped>\n",
       "    .dataframe tbody tr th:only-of-type {\n",
       "        vertical-align: middle;\n",
       "    }\n",
       "\n",
       "    .dataframe tbody tr th {\n",
       "        vertical-align: top;\n",
       "    }\n",
       "\n",
       "    .dataframe thead th {\n",
       "        text-align: right;\n",
       "    }\n",
       "</style>\n",
       "<table border=\"1\" class=\"dataframe\">\n",
       "  <thead>\n",
       "    <tr style=\"text-align: right;\">\n",
       "      <th></th>\n",
       "      <th>title</th>\n",
       "      <th>text</th>\n",
       "      <th>label</th>\n",
       "    </tr>\n",
       "  </thead>\n",
       "  <tbody>\n",
       "    <tr>\n",
       "      <th>0</th>\n",
       "      <td>smell hillari fear</td>\n",
       "      <td>daniel greenfield shillman journal fellow free...</td>\n",
       "      <td>FAKE</td>\n",
       "    </tr>\n",
       "    <tr>\n",
       "      <th>1</th>\n",
       "      <td>watch exact moment paul ryan commit polit suic...</td>\n",
       "      <td>googl pinterest digg linkedin reddit stumbleup...</td>\n",
       "      <td>FAKE</td>\n",
       "    </tr>\n",
       "    <tr>\n",
       "      <th>2</th>\n",
       "      <td>kerri go pari gestur sympathi</td>\n",
       "      <td>u secretari state john f kerri said monday sto...</td>\n",
       "      <td>REAL</td>\n",
       "    </tr>\n",
       "    <tr>\n",
       "      <th>3</th>\n",
       "      <td>berni support twitter erupt anger dnc tri warn</td>\n",
       "      <td>kayde king kaydeek novemb 9 2016 lesson tonigh...</td>\n",
       "      <td>FAKE</td>\n",
       "    </tr>\n",
       "    <tr>\n",
       "      <th>4</th>\n",
       "      <td>battl new york primari matter</td>\n",
       "      <td>primari day new york front runner hillari clin...</td>\n",
       "      <td>REAL</td>\n",
       "    </tr>\n",
       "  </tbody>\n",
       "</table>\n",
       "</div>"
      ],
      "text/plain": [
       "                                               title  \\\n",
       "0                                 smell hillari fear   \n",
       "1  watch exact moment paul ryan commit polit suic...   \n",
       "2                      kerri go pari gestur sympathi   \n",
       "3     berni support twitter erupt anger dnc tri warn   \n",
       "4                      battl new york primari matter   \n",
       "\n",
       "                                                text label  \n",
       "0  daniel greenfield shillman journal fellow free...  FAKE  \n",
       "1  googl pinterest digg linkedin reddit stumbleup...  FAKE  \n",
       "2  u secretari state john f kerri said monday sto...  REAL  \n",
       "3  kayde king kaydeek novemb 9 2016 lesson tonigh...  FAKE  \n",
       "4  primari day new york front runner hillari clin...  REAL  "
      ]
     },
     "execution_count": 118,
     "metadata": {},
     "output_type": "execute_result"
    }
   ],
   "source": [
    "News.head()"
   ]
  },
  {
   "cell_type": "markdown",
   "id": "fde19ae7-a1af-4561-9788-6aacc1dfc4b5",
   "metadata": {},
   "source": [
    "### Tfidf"
   ]
  },
  {
   "cell_type": "code",
   "execution_count": 119,
   "id": "6e69c442-e661-4ba2-904c-4515f706ec0e",
   "metadata": {},
   "outputs": [],
   "source": [
    "from sklearn.model_selection import train_test_split\n",
    "from sklearn.feature_extraction.text import CountVectorizer,TfidfVectorizer\n",
    "from sklearn.feature_extraction.text import TfidfVectorizer\n",
    "from sklearn import model_selection, preprocessing, linear_model, naive_bayes, metrics, svm\n",
    "from sklearn.metrics import confusion_matrix, classification_report\n",
    "from sklearn.linear_model import PassiveAggressiveClassifier\n"
   ]
  },
  {
   "cell_type": "code",
   "execution_count": 120,
   "id": "b125f4ff-0ae4-4320-ad2d-03253c42f934",
   "metadata": {},
   "outputs": [],
   "source": [
    "X=News[\"text\"]\n",
    "y=pd.DataFrame(News['label'])"
   ]
  },
  {
   "cell_type": "code",
   "execution_count": 121,
   "id": "c87a3e4f-05b4-4eda-a96c-c3e4a68190be",
   "metadata": {},
   "outputs": [],
   "source": [
    "x_train, x_test, y_train, y_test = model_selection.train_test_split(X, y)"
   ]
  },
  {
   "cell_type": "code",
   "execution_count": 122,
   "id": "37947165-a40a-4e3a-8c23-e7601189a48c",
   "metadata": {},
   "outputs": [],
   "source": [
    "y_test = np.ravel(y_test)\n",
    "y_train = np.ravel(y_train)"
   ]
  },
  {
   "cell_type": "code",
   "execution_count": 123,
   "id": "b690e0d5-6535-4e3d-bc91-3fe5239e0d75",
   "metadata": {},
   "outputs": [
    {
     "data": {
      "text/html": [
       "<style>#sk-container-id-6 {color: black;}#sk-container-id-6 pre{padding: 0;}#sk-container-id-6 div.sk-toggleable {background-color: white;}#sk-container-id-6 label.sk-toggleable__label {cursor: pointer;display: block;width: 100%;margin-bottom: 0;padding: 0.3em;box-sizing: border-box;text-align: center;}#sk-container-id-6 label.sk-toggleable__label-arrow:before {content: \"▸\";float: left;margin-right: 0.25em;color: #696969;}#sk-container-id-6 label.sk-toggleable__label-arrow:hover:before {color: black;}#sk-container-id-6 div.sk-estimator:hover label.sk-toggleable__label-arrow:before {color: black;}#sk-container-id-6 div.sk-toggleable__content {max-height: 0;max-width: 0;overflow: hidden;text-align: left;background-color: #f0f8ff;}#sk-container-id-6 div.sk-toggleable__content pre {margin: 0.2em;color: black;border-radius: 0.25em;background-color: #f0f8ff;}#sk-container-id-6 input.sk-toggleable__control:checked~div.sk-toggleable__content {max-height: 200px;max-width: 100%;overflow: auto;}#sk-container-id-6 input.sk-toggleable__control:checked~label.sk-toggleable__label-arrow:before {content: \"▾\";}#sk-container-id-6 div.sk-estimator input.sk-toggleable__control:checked~label.sk-toggleable__label {background-color: #d4ebff;}#sk-container-id-6 div.sk-label input.sk-toggleable__control:checked~label.sk-toggleable__label {background-color: #d4ebff;}#sk-container-id-6 input.sk-hidden--visually {border: 0;clip: rect(1px 1px 1px 1px);clip: rect(1px, 1px, 1px, 1px);height: 1px;margin: -1px;overflow: hidden;padding: 0;position: absolute;width: 1px;}#sk-container-id-6 div.sk-estimator {font-family: monospace;background-color: #f0f8ff;border: 1px dotted black;border-radius: 0.25em;box-sizing: border-box;margin-bottom: 0.5em;}#sk-container-id-6 div.sk-estimator:hover {background-color: #d4ebff;}#sk-container-id-6 div.sk-parallel-item::after {content: \"\";width: 100%;border-bottom: 1px solid gray;flex-grow: 1;}#sk-container-id-6 div.sk-label:hover label.sk-toggleable__label {background-color: #d4ebff;}#sk-container-id-6 div.sk-serial::before {content: \"\";position: absolute;border-left: 1px solid gray;box-sizing: border-box;top: 0;bottom: 0;left: 50%;z-index: 0;}#sk-container-id-6 div.sk-serial {display: flex;flex-direction: column;align-items: center;background-color: white;padding-right: 0.2em;padding-left: 0.2em;position: relative;}#sk-container-id-6 div.sk-item {position: relative;z-index: 1;}#sk-container-id-6 div.sk-parallel {display: flex;align-items: stretch;justify-content: center;background-color: white;position: relative;}#sk-container-id-6 div.sk-item::before, #sk-container-id-6 div.sk-parallel-item::before {content: \"\";position: absolute;border-left: 1px solid gray;box-sizing: border-box;top: 0;bottom: 0;left: 50%;z-index: -1;}#sk-container-id-6 div.sk-parallel-item {display: flex;flex-direction: column;z-index: 1;position: relative;background-color: white;}#sk-container-id-6 div.sk-parallel-item:first-child::after {align-self: flex-end;width: 50%;}#sk-container-id-6 div.sk-parallel-item:last-child::after {align-self: flex-start;width: 50%;}#sk-container-id-6 div.sk-parallel-item:only-child::after {width: 0;}#sk-container-id-6 div.sk-dashed-wrapped {border: 1px dashed gray;margin: 0 0.4em 0.5em 0.4em;box-sizing: border-box;padding-bottom: 0.4em;background-color: white;}#sk-container-id-6 div.sk-label label {font-family: monospace;font-weight: bold;display: inline-block;line-height: 1.2em;}#sk-container-id-6 div.sk-label-container {text-align: center;}#sk-container-id-6 div.sk-container {/* jupyter's `normalize.less` sets `[hidden] { display: none; }` but bootstrap.min.css set `[hidden] { display: none !important; }` so we also need the `!important` here to be able to override the default hidden behavior on the sphinx rendered scikit-learn.org. See: https://github.com/scikit-learn/scikit-learn/issues/21755 */display: inline-block !important;position: relative;}#sk-container-id-6 div.sk-text-repr-fallback {display: none;}</style><div id=\"sk-container-id-6\" class=\"sk-top-container\"><div class=\"sk-text-repr-fallback\"><pre>LabelEncoder()</pre><b>In a Jupyter environment, please rerun this cell to show the HTML representation or trust the notebook. <br />On GitHub, the HTML representation is unable to render, please try loading this page with nbviewer.org.</b></div><div class=\"sk-container\" hidden><div class=\"sk-item\"><div class=\"sk-estimator sk-toggleable\"><input class=\"sk-toggleable__control sk-hidden--visually\" id=\"sk-estimator-id-6\" type=\"checkbox\" checked><label for=\"sk-estimator-id-6\" class=\"sk-toggleable__label sk-toggleable__label-arrow\">LabelEncoder</label><div class=\"sk-toggleable__content\"><pre>LabelEncoder()</pre></div></div></div></div></div>"
      ],
      "text/plain": [
       "LabelEncoder()"
      ]
     },
     "execution_count": 123,
     "metadata": {},
     "output_type": "execute_result"
    }
   ],
   "source": [
    "encoder = preprocessing.LabelEncoder()\n",
    "encoder.fit(y_train)"
   ]
  },
  {
   "cell_type": "code",
   "execution_count": 125,
   "id": "d02c05ce-8187-465f-bdcb-03cd85ce3376",
   "metadata": {},
   "outputs": [],
   "source": [
    "y_train = encoder.transform(y_train)\n",
    "y_test = encoder.transform(y_test)"
   ]
  },
  {
   "cell_type": "code",
   "execution_count": 127,
   "id": "d0804188-79d5-4d8e-bcf4-97c9ea16b226",
   "metadata": {},
   "outputs": [
    {
     "data": {
      "text/html": [
       "<style>#sk-container-id-7 {color: black;}#sk-container-id-7 pre{padding: 0;}#sk-container-id-7 div.sk-toggleable {background-color: white;}#sk-container-id-7 label.sk-toggleable__label {cursor: pointer;display: block;width: 100%;margin-bottom: 0;padding: 0.3em;box-sizing: border-box;text-align: center;}#sk-container-id-7 label.sk-toggleable__label-arrow:before {content: \"▸\";float: left;margin-right: 0.25em;color: #696969;}#sk-container-id-7 label.sk-toggleable__label-arrow:hover:before {color: black;}#sk-container-id-7 div.sk-estimator:hover label.sk-toggleable__label-arrow:before {color: black;}#sk-container-id-7 div.sk-toggleable__content {max-height: 0;max-width: 0;overflow: hidden;text-align: left;background-color: #f0f8ff;}#sk-container-id-7 div.sk-toggleable__content pre {margin: 0.2em;color: black;border-radius: 0.25em;background-color: #f0f8ff;}#sk-container-id-7 input.sk-toggleable__control:checked~div.sk-toggleable__content {max-height: 200px;max-width: 100%;overflow: auto;}#sk-container-id-7 input.sk-toggleable__control:checked~label.sk-toggleable__label-arrow:before {content: \"▾\";}#sk-container-id-7 div.sk-estimator input.sk-toggleable__control:checked~label.sk-toggleable__label {background-color: #d4ebff;}#sk-container-id-7 div.sk-label input.sk-toggleable__control:checked~label.sk-toggleable__label {background-color: #d4ebff;}#sk-container-id-7 input.sk-hidden--visually {border: 0;clip: rect(1px 1px 1px 1px);clip: rect(1px, 1px, 1px, 1px);height: 1px;margin: -1px;overflow: hidden;padding: 0;position: absolute;width: 1px;}#sk-container-id-7 div.sk-estimator {font-family: monospace;background-color: #f0f8ff;border: 1px dotted black;border-radius: 0.25em;box-sizing: border-box;margin-bottom: 0.5em;}#sk-container-id-7 div.sk-estimator:hover {background-color: #d4ebff;}#sk-container-id-7 div.sk-parallel-item::after {content: \"\";width: 100%;border-bottom: 1px solid gray;flex-grow: 1;}#sk-container-id-7 div.sk-label:hover label.sk-toggleable__label {background-color: #d4ebff;}#sk-container-id-7 div.sk-serial::before {content: \"\";position: absolute;border-left: 1px solid gray;box-sizing: border-box;top: 0;bottom: 0;left: 50%;z-index: 0;}#sk-container-id-7 div.sk-serial {display: flex;flex-direction: column;align-items: center;background-color: white;padding-right: 0.2em;padding-left: 0.2em;position: relative;}#sk-container-id-7 div.sk-item {position: relative;z-index: 1;}#sk-container-id-7 div.sk-parallel {display: flex;align-items: stretch;justify-content: center;background-color: white;position: relative;}#sk-container-id-7 div.sk-item::before, #sk-container-id-7 div.sk-parallel-item::before {content: \"\";position: absolute;border-left: 1px solid gray;box-sizing: border-box;top: 0;bottom: 0;left: 50%;z-index: -1;}#sk-container-id-7 div.sk-parallel-item {display: flex;flex-direction: column;z-index: 1;position: relative;background-color: white;}#sk-container-id-7 div.sk-parallel-item:first-child::after {align-self: flex-end;width: 50%;}#sk-container-id-7 div.sk-parallel-item:last-child::after {align-self: flex-start;width: 50%;}#sk-container-id-7 div.sk-parallel-item:only-child::after {width: 0;}#sk-container-id-7 div.sk-dashed-wrapped {border: 1px dashed gray;margin: 0 0.4em 0.5em 0.4em;box-sizing: border-box;padding-bottom: 0.4em;background-color: white;}#sk-container-id-7 div.sk-label label {font-family: monospace;font-weight: bold;display: inline-block;line-height: 1.2em;}#sk-container-id-7 div.sk-label-container {text-align: center;}#sk-container-id-7 div.sk-container {/* jupyter's `normalize.less` sets `[hidden] { display: none; }` but bootstrap.min.css set `[hidden] { display: none !important; }` so we also need the `!important` here to be able to override the default hidden behavior on the sphinx rendered scikit-learn.org. See: https://github.com/scikit-learn/scikit-learn/issues/21755 */display: inline-block !important;position: relative;}#sk-container-id-7 div.sk-text-repr-fallback {display: none;}</style><div id=\"sk-container-id-7\" class=\"sk-top-container\"><div class=\"sk-text-repr-fallback\"><pre>TfidfVectorizer()</pre><b>In a Jupyter environment, please rerun this cell to show the HTML representation or trust the notebook. <br />On GitHub, the HTML representation is unable to render, please try loading this page with nbviewer.org.</b></div><div class=\"sk-container\" hidden><div class=\"sk-item\"><div class=\"sk-estimator sk-toggleable\"><input class=\"sk-toggleable__control sk-hidden--visually\" id=\"sk-estimator-id-7\" type=\"checkbox\" checked><label for=\"sk-estimator-id-7\" class=\"sk-toggleable__label sk-toggleable__label-arrow\">TfidfVectorizer</label><div class=\"sk-toggleable__content\"><pre>TfidfVectorizer()</pre></div></div></div></div></div>"
      ],
      "text/plain": [
       "TfidfVectorizer()"
      ]
     },
     "execution_count": 127,
     "metadata": {},
     "output_type": "execute_result"
    }
   ],
   "source": [
    "tfidf_vect = TfidfVectorizer()\n",
    "tfidf_vect.fit(X)"
   ]
  },
  {
   "cell_type": "code",
   "execution_count": 129,
   "id": "b56aff06-e138-4543-a740-b7390c7c7a90",
   "metadata": {},
   "outputs": [],
   "source": [
    "xtrain_tfidf =  tfidf_vect.transform(x_train)\n",
    "xtest_tfidf =  tfidf_vect.transform(x_test)"
   ]
  },
  {
   "cell_type": "markdown",
   "id": "12cc8f36-ecc1-4cf4-b686-aca14463a4ed",
   "metadata": {},
   "source": [
    "### model "
   ]
  },
  {
   "cell_type": "code",
   "execution_count": 130,
   "id": "89f8810e-9c25-467b-b7f3-b88a5a0c05b7",
   "metadata": {},
   "outputs": [],
   "source": [
    "def train_model(classifier, X_trainning, target, X_testing):\n",
    "    classifier.fit(X_trainning, target)\n",
    "    predictions = classifier.predict(X_testing)\n",
    "    predict_train = classifier.predict(X_trainning)\n",
    "    return metrics.accuracy_score(predictions, y_test) ,metrics.accuracy_score(predict_train, target),predictions\n",
    "\n"
   ]
  },
  {
   "cell_type": "code",
   "execution_count": 131,
   "id": "b3329501-ae18-4587-ad0c-31c4dfbb6e7c",
   "metadata": {},
   "outputs": [],
   "source": [
    "def Accuarcy_of_score (model , X_test): \n",
    "    predictions = classifier.predict(X_test)\n",
    "    return metrics.accuracy_score(predictions, y_test)"
   ]
  },
  {
   "cell_type": "markdown",
   "id": "37625052-7766-411d-8534-e937e360aa63",
   "metadata": {},
   "source": [
    "### model naive bayes"
   ]
  },
  {
   "cell_type": "code",
   "execution_count": 135,
   "id": "7e809000-35a6-420e-9726-b4882a130e9d",
   "metadata": {},
   "outputs": [
    {
     "name": "stdout",
     "output_type": "stream",
     "text": [
      "Accuracy of test :  0.9002525252525253\n",
      "Accuracy of train :  0.9705325194695853\n"
     ]
    }
   ],
   "source": [
    "accuracy_test ,accuracy_train , predictions  = train_model(naive_bayes.MultinomialNB(alpha=0.01), xtrain_tfidf, y_train, xtest_tfidf)\n",
    "print (\"Accuracy of test : \", accuracy_test)\n",
    "print (\"Accuracy of train : \", accuracy_train)\n"
   ]
  },
  {
   "cell_type": "code",
   "execution_count": 137,
   "id": "033de965-0b92-4fd9-8c3a-35a43e6750e0",
   "metadata": {},
   "outputs": [
    {
     "data": {
      "image/png": "[encoded data removed]",
      "text/plain": [
       "<Figure size 800x600 with 1 Axes>"
      ]
     },
     "metadata": {},
     "output_type": "display_data"
    },
    {
     "data": {
      "image/png": "[encoded data removed]",
      "text/plain": [
       "<Figure size 640x480 with 1 Axes>"
      ]
     },
     "metadata": {},
     "output_type": "display_data"
    }
   ],
   "source": [
    "cm = confusion_matrix(y_test, predictions)\n",
    "\n",
    "class_names = np.unique(np.unique(y))\n",
    "\n",
    "plt.figure(figsize=(8, 6))\n",
    "colors = plt.cm.Reds(np.linspace(0, 0.5, len(class_names)))\n",
    "for i in range(len(class_names)):\n",
    "    plt.pie(cm[i], labels=class_names, colors=colors, autopct='%1.1f%%', startangle=140)\n",
    "    plt.title(f'Confusion Matrix - Class {class_names[i]}')\n",
    "    plt.axis('equal') \n",
    "    plt.show()\n"
   ]
  },
  {
   "cell_type": "markdown",
   "id": "8af7e63c-d267-4f37-95c3-c18aff619c58",
   "metadata": {},
   "source": [
    "### model logistic"
   ]
  },
  {
   "cell_type": "code",
   "execution_count": 141,
   "id": "74f58d8d-e66d-482f-a8ea-6ef7b0224c81",
   "metadata": {},
   "outputs": [
    {
     "name": "stdout",
     "output_type": "stream",
     "text": [
      "Accuracy of test :  0.9147727272727273\n",
      "Accuracy of train :  0.9543254051778572\n"
     ]
    }
   ],
   "source": [
    "# Linear Classifier on Word Level TF IDF Vectors\n",
    "accuracy_test ,accuracy_train, predictions  = train_model(linear_model.LogisticRegression(), xtrain_tfidf, y_train, xtest_tfidf)\n",
    "print (\"Accuracy of test : \", accuracy_test)\n",
    "print (\"Accuracy of train : \", accuracy_train)"
   ]
  },
  {
   "cell_type": "code",
   "execution_count": 143,
   "id": "32fe4b69-6a62-4a8b-b9cc-6a47186d4c45",
   "metadata": {},
   "outputs": [
    {
     "data": {
      "image/png": "[encoded data removed]",
      "text/plain": [
       "<Figure size 800x600 with 1 Axes>"
      ]
     },
     "metadata": {},
     "output_type": "display_data"
    },
    {
     "data": {
      "image/png": "[encoded data removed]",
      "text/plain": [
       "<Figure size 640x480 with 1 Axes>"
      ]
     },
     "metadata": {},
     "output_type": "display_data"
    }
   ],
   "source": [
    "\n",
    "cm = confusion_matrix(y_test, predictions)\n",
    "\n",
    "class_names = np.unique(np.unique(y))\n",
    "\n",
    "plt.figure(figsize=(8, 6))\n",
    "colors = plt.cm.Reds(np.linspace(0, 0.5, len(class_names)))\n",
    "for i in range(len(class_names)):\n",
    "    plt.pie(cm[i], labels=class_names, colors=colors, autopct='%1.1f%%', startangle=140)\n",
    "    plt.title(f'Confusion Matrix - Class {class_names[i]}')\n",
    "    plt.axis('equal') \n",
    "    plt.show()"
   ]
  },
  {
   "cell_type": "markdown",
   "id": "9bdeb858-1202-40df-bdca-b399bbc7d879",
   "metadata": {},
   "source": [
    "### PassiveAggressiveClassifier model"
   ]
  },
  {
   "cell_type": "code",
   "execution_count": 147,
   "id": "84c48fad",
   "metadata": {},
   "outputs": [
    {
     "name": "stdout",
     "output_type": "stream",
     "text": [
      "Accuracy of test :  0.9330808080808081\n",
      "Accuracy of train :  0.9846348137234266\n"
     ]
    }
   ],
   "source": [
    "accuracy_test ,accuracy_train, predictions  = train_model(PassiveAggressiveClassifier(C=0.01, max_iter=100), xtrain_tfidf, y_train, xtest_tfidf)\n",
    "print (\"Accuracy of test : \", accuracy_test)\n",
    "print (\"Accuracy of train : \", accuracy_train)\n"
   ]
  },
  {
   "cell_type": "code",
   "execution_count": null,
   "id": "f0c280b0",
   "metadata": {},
   "outputs": [],
   "source": [
    "\n",
    "cm = confusion_matrix(y_test, predictions)\n",
    "\n",
    "class_names = np.unique(np.unique(y))\n",
    "\n",
    "plt.figure(figsize=(8, 6))\n",
    "colors = plt.cm.Reds(np.linspace(0, 0.5, len(class_names)))\n",
    "for i in range(len(class_names)):\n",
    "    plt.pie(cm[i], labels=class_names, colors=colors, autopct='%1.1f%%', startangle=140)\n",
    "    plt.title(f'Confusion Matrix - Class {class_names[i]}')\n",
    "    plt.axis('equal') \n",
    "    plt.show()"
   ]
  },
  {
   "cell_type": "code",
   "execution_count": null,
   "id": "24b6618a",
   "metadata": {},
   "outputs": [],
   "source": []
  }
 ],
 "metadata": {
  "kernelspec": {
   "display_name": "Python 3 (ipykernel)",
   "language": "python",
   "name": "python3"
  },
  "language_info": {
   "codemirror_mode": {
    "name": "ipython",
    "version": 3
   },
   "file_extension": ".py",
   "mimetype": "text/x-python",
   "name": "python",
   "nbconvert_exporter": "python",
   "pygments_lexer": "ipython3",
   "version": "3.11.5"
  }
 },
 "nbformat": 4,
 "nbformat_minor": 5
}
